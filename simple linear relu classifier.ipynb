{
 "cells": [
  {
   "cell_type": "code",
   "execution_count": 129,
   "id": "abef9c45",
   "metadata": {},
   "outputs": [],
   "source": [
    "import torch\n",
    "import torch.nn as nn\n",
    "import torch.nn.functional as F\n",
    "import numpy as np\n",
    "import pandas"
   ]
  },
  {
   "cell_type": "code",
   "execution_count": 516,
   "id": "dcd66c00",
   "metadata": {},
   "outputs": [],
   "source": [
    "df = pandas.read_csv('C:/Users/jay/Desktop/stuff/data/pucrio/PUC-rio.csv', sep=';', decimal=',')"
   ]
  },
  {
   "cell_type": "code",
   "execution_count": 517,
   "id": "20be3112",
   "metadata": {},
   "outputs": [
    {
     "name": "stderr",
     "output_type": "stream",
     "text": [
      "C:\\Users\\jay\\AppData\\Local\\Temp/ipykernel_1148/4293387506.py:1: FutureWarning: In a future version of pandas all arguments of DataFrame.drop except for the argument 'labels' will be keyword-only\n",
      "  df = df.drop(['user', 'gender', 'age', 'weight', 'body_mass_index'], 'columns')\n"
     ]
    }
   ],
   "source": [
    "df = df.drop(['user', 'gender', 'age', 'weight', 'body_mass_index'], 'columns')"
   ]
  },
  {
   "cell_type": "code",
   "execution_count": 518,
   "id": "33c78898",
   "metadata": {
    "scrolled": true
   },
   "outputs": [],
   "source": [
    "df = df.sample(frac = 1) # shuffle the dataframe"
   ]
  },
  {
   "cell_type": "code",
   "execution_count": 519,
   "id": "38adb138",
   "metadata": {},
   "outputs": [
    {
     "name": "stderr",
     "output_type": "stream",
     "text": [
      "C:\\Users\\jay\\AppData\\Local\\Temp/ipykernel_1148/1386076314.py:3: FutureWarning: In a future version of pandas all arguments of DataFrame.drop except for the argument 'labels' will be keyword-only\n",
      "  df = df.drop(\"class\", \"columns\")\n"
     ]
    }
   ],
   "source": [
    "df[\"class\"] = pandas.factorize(df[\"class\"])[0]\n",
    "targets = torch.from_numpy(df[\"class\"].values.astype(np.int64))\n",
    "df = df.drop(\"class\", \"columns\")"
   ]
  },
  {
   "cell_type": "code",
   "execution_count": 520,
   "id": "40acaf89",
   "metadata": {},
   "outputs": [],
   "source": [
    "inputs = torch.from_numpy(df.values.astype(np.float32))"
   ]
  },
  {
   "cell_type": "code",
   "execution_count": 521,
   "id": "231af54b",
   "metadata": {},
   "outputs": [
    {
     "name": "stdout",
     "output_type": "stream",
     "text": [
      "torch.Size([149069, 13])\n",
      "torch.Size([149069])\n",
      "torch.Size([16564, 13])\n",
      "torch.Size([16564])\n"
     ]
    }
   ],
   "source": [
    "train_size = int(inputs.shape[0]*0.9)\n",
    "test_inputs = inputs[train_size:]\n",
    "test_targets = targets[train_size:]\n",
    "inputs = inputs[:train_size]\n",
    "targets = targets[:train_size]\n",
    "print(inputs.shape)\n",
    "print(targets.shape)\n",
    "print(test_inputs.shape)\n",
    "print(test_targets.shape)"
   ]
  },
  {
   "cell_type": "code",
   "execution_count": 522,
   "id": "208b3bdc",
   "metadata": {},
   "outputs": [
    {
     "name": "stdout",
     "output_type": "stream",
     "text": [
      "Using cpu device\n"
     ]
    }
   ],
   "source": [
    "device = (\n",
    "    \"cuda\"\n",
    "    if torch.cuda.is_available()\n",
    "    else \"mps\"\n",
    "    if torch.backends.mps.is_available()\n",
    "    else \"cpu\"\n",
    ")\n",
    "print(f\"Using {device} device\")"
   ]
  },
  {
   "cell_type": "code",
   "execution_count": 523,
   "id": "92b528de",
   "metadata": {},
   "outputs": [],
   "source": [
    "class NeuralNetwork(nn.Module):\n",
    "    def __init__(self):\n",
    "        super().__init__()\n",
    "        self.flatten = nn.Flatten()\n",
    "        self.linear_relu_stack = nn.Sequential(\n",
    "            nn.Linear(13,32), # 13 inputs\n",
    "            nn.ReLU(),\n",
    "            nn.Linear(32,32),\n",
    "            nn.ReLU(),\n",
    "            nn.Linear(32,5) # 5 possible classes\n",
    "        )\n",
    "    \n",
    "    def forward(self, x):\n",
    "        x = self.flatten(x)\n",
    "        logits = self.linear_relu_stack(x)\n",
    "        return logits"
   ]
  },
  {
   "cell_type": "code",
   "execution_count": 524,
   "id": "1b73daf5",
   "metadata": {},
   "outputs": [
    {
     "name": "stdout",
     "output_type": "stream",
     "text": [
      "NeuralNetwork(\n",
      "  (flatten): Flatten(start_dim=1, end_dim=-1)\n",
      "  (linear_relu_stack): Sequential(\n",
      "    (0): Linear(in_features=13, out_features=32, bias=True)\n",
      "    (1): ReLU()\n",
      "    (2): Linear(in_features=32, out_features=32, bias=True)\n",
      "    (3): ReLU()\n",
      "    (4): Linear(in_features=32, out_features=5, bias=True)\n",
      "  )\n",
      ")\n"
     ]
    }
   ],
   "source": [
    "model = NeuralNetwork().to(device)\n",
    "print(model)"
   ]
  },
  {
   "cell_type": "code",
   "execution_count": 525,
   "id": "ef61638a",
   "metadata": {},
   "outputs": [],
   "source": [
    "loss_fn = nn.CrossEntropyLoss()\n",
    "optim = torch.optim.SGD(model.parameters(), lr=0.0005, momentum=0.95)"
   ]
  },
  {
   "cell_type": "code",
   "execution_count": 527,
   "id": "d1b3df9e",
   "metadata": {},
   "outputs": [
    {
     "name": "stdout",
     "output_type": "stream",
     "text": [
      "Training 1490 batches\n",
      "99 tensor(0.2568, grad_fn=<NllLossBackward0>)\n",
      "199 tensor(0.3337, grad_fn=<NllLossBackward0>)\n",
      "299 tensor(0.4084, grad_fn=<NllLossBackward0>)\n",
      "399 tensor(0.3576, grad_fn=<NllLossBackward0>)\n",
      "499 tensor(0.3652, grad_fn=<NllLossBackward0>)\n",
      "599 tensor(0.3748, grad_fn=<NllLossBackward0>)\n",
      "699 tensor(0.2956, grad_fn=<NllLossBackward0>)\n",
      "799 tensor(0.2502, grad_fn=<NllLossBackward0>)\n",
      "899 tensor(0.2378, grad_fn=<NllLossBackward0>)\n",
      "999 tensor(0.2550, grad_fn=<NllLossBackward0>)\n",
      "1099 tensor(0.2587, grad_fn=<NllLossBackward0>)\n",
      "1199 tensor(0.2624, grad_fn=<NllLossBackward0>)\n",
      "1299 tensor(0.2760, grad_fn=<NllLossBackward0>)\n",
      "1399 tensor(0.2361, grad_fn=<NllLossBackward0>)\n",
      "Done!\n"
     ]
    }
   ],
   "source": [
    "batch_size = 100\n",
    "print(\"Training\", targets.shape[0]//batch_size, \"batches\")\n",
    "for b in range(targets.shape[0]//batch_size):\n",
    "    lo = b*batch_size\n",
    "    hi = b*(batch_size+1) if b*(batch_size+1) <= targets.shape[0] else targets.shape[0]+1\n",
    "    inpts = inputs[lo:hi]\n",
    "    trgts = targets[lo:hi]\n",
    "    \n",
    "    optim.zero_grad()\n",
    "    \n",
    "    logits = model(inpts)\n",
    "    \n",
    "    loss = loss_fn(logits, trgts)\n",
    "    loss.backward()\n",
    "    \n",
    "    optim.step()\n",
    "    \n",
    "    if (b % 100 == 99):\n",
    "        print(b, loss)\n",
    "    \n",
    "print(\"Done!\")"
   ]
  },
  {
   "cell_type": "code",
   "execution_count": 528,
   "id": "cf54c427",
   "metadata": {},
   "outputs": [
    {
     "name": "stdout",
     "output_type": "stream",
     "text": [
      "Test set accuracy: 0.8973074136681961\n"
     ]
    }
   ],
   "source": [
    "ct_correct = 0\n",
    "for i in range(test_inputs.shape[0]):\n",
    "    if model(test_inputs[i:i+1]).argmax().item() == test_targets[i:i+1][0].item():\n",
    "        ct_correct += 1\n",
    "print(\"Test set accuracy:\", ct_correct/test_inputs.shape[0])"
   ]
  },
  {
   "cell_type": "code",
   "execution_count": null,
   "id": "1384ee14",
   "metadata": {},
   "outputs": [],
   "source": []
  }
 ],
 "metadata": {
  "kernelspec": {
   "display_name": "Python 3 (ipykernel)",
   "language": "python",
   "name": "python3"
  },
  "language_info": {
   "codemirror_mode": {
    "name": "ipython",
    "version": 3
   },
   "file_extension": ".py",
   "mimetype": "text/x-python",
   "name": "python",
   "nbconvert_exporter": "python",
   "pygments_lexer": "ipython3",
   "version": "3.9.7"
  }
 },
 "nbformat": 4,
 "nbformat_minor": 5
}
